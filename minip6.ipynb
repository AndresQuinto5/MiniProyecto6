{
  "cells": [
    {
      "cell_type": "markdown",
      "metadata": {
        "id": "N9DlP_zY3JJh"
      },
      "source": [
        "Modelación y Simulación\n",
        "- MiniProyecto 6 -\n",
        "\n",
        "1. Andres Q \n",
        "2. Mirka M\n",
        "3. Oscar de Leon"
      ]
    },
    {
      "cell_type": "code",
      "execution_count": null,
      "metadata": {
        "id": "mmCr-G5_3JJq"
      },
      "outputs": [],
      "source": [
        "#import de la funcion random\n",
        "import random\n",
        "import matplotlib.pyplot as plt\n",
        "import numpy as np\n",
        "import plotly.express as px"
      ]
    },
    {
      "cell_type": "markdown",
      "metadata": {
        "id": "S_19xjdvwzGo"
      },
      "source": [
        "###Ejercicio 1"
      ]
    },
    {
      "cell_type": "code",
      "execution_count": null,
      "metadata": {
        "colab": {
          "base_uri": "https://localhost:8080/"
        },
        "id": "NJkdkISA3JJs",
        "outputId": "f3b01c7d-697c-418d-fa4f-a8606fa6232c"
      },
      "outputs": [],
      "source": [
        "# Generates uniform random number between 4 and 6\n",
        "random.uniform(4, 6)"
      ]
    },
    {
      "cell_type": "markdown",
      "metadata": {
        "id": "rNQGmT0q3JJu"
      },
      "source": [
        "Como sabemos que los chances para que una moneda sea cara o escudo son iguales, procedemos a simularlo"
      ]
    },
    {
      "cell_type": "code",
      "execution_count": null,
      "metadata": {
        "id": "03E23N953JJu"
      },
      "outputs": [],
      "source": [
        "def unbiased_coin_toss():\n",
        "    # Generate a random number from 0 to 1\n",
        "    x = random.uniform(0, 1)\n",
        "    # Probability that the number falls between 0 and 0.5 is 1/2\n",
        "    if x > 0.5:\n",
        "        # Heads for True\n",
        "        return True\n",
        "    else:\n",
        "        # Tails for False\n",
        "        return False"
      ]
    },
    {
      "cell_type": "code",
      "execution_count": null,
      "metadata": {
        "colab": {
          "base_uri": "https://localhost:8080/"
        },
        "id": "0YTR6MmD3JJv",
        "outputId": "9ddd55fc-570b-4aba-f058-a7ca5e0c9882"
      },
      "outputs": [],
      "source": [
        "# SIMULACION DE MONTECARLO\n",
        "from traceback import print_tb\n",
        "\n",
        "\n",
        "prob = []\n",
        "# With numpy we fill a list with 1000 numbers between 0 and 1000 in order\n",
        "iterations = np.arange(1, 1001)\n",
        "# Make 1000 experiments\n",
        "for i in range(1000):\n",
        "    # Each experiment have 10 coin tosses\n",
        "    N = 10\n",
        "    results = []\n",
        "    # Toss the coin 10 times and store that in a list\n",
        "    for i in range(N):\n",
        "        result = unbiased_coin_toss()\n",
        "        results.append(result)\n",
        "    n_heads = sum(results)\n",
        "    p_heads = n_heads/N\n",
        "    prob.append(p_heads)\n",
        "# average the probability of heads over 1000 experiments\n",
        "p_heads_MC = sum(prob)/1000\n",
        "print(\"Probability is {:.3f}\".format(p_heads_MC))\n"
      ]
    },
    {
      "cell_type": "markdown",
      "metadata": {
        "id": "ARbZ9i8l3JJw"
      },
      "source": [
        "Como podemos apreciar, la probabilidad varia aunque regularmente esta alrededor de 0.5 (debido a las monedas justas)"
      ]
    },
    {
      "cell_type": "code",
      "execution_count": null,
      "metadata": {
        "colab": {
          "base_uri": "https://localhost:8080/",
          "height": 542
        },
        "id": "_ItVa19n3JJx",
        "outputId": "527e5523-0bdd-495b-d069-8740e45fc620"
      },
      "outputs": [],
      "source": [
        "# SIMULACION DE MONTECARLO\n",
        "# Este graficoc es para ver la distribucion de la probabilidad conforme a la iteracion\n",
        "# Es un grafico de dinamico\n",
        "fig = px.line(x=iterations, y=prob, title='Simulacion de Montecarlo', labels={'x':'Iteraciones', 'y':'Probabilidad'})\n",
        "fig.show()"
      ]
    },
    {
      "cell_type": "markdown",
      "metadata": {
        "id": "uibtkR7ktvve"
      },
      "source": [
        "###Ejercicio 2"
      ]
    },
    {
      "cell_type": "code",
      "execution_count": null,
      "metadata": {
        "colab": {
          "base_uri": "https://localhost:8080/",
          "height": 265
        },
        "id": "KbJ6xaJNtvjI",
        "outputId": "e9de9f53-523d-484a-f57c-10e273df20f5"
      },
      "outputs": [],
      "source": [
        "import random \n",
        "import matplotlib.pyplot as plt\n",
        "\n",
        "\n",
        "iter = 10\n",
        "final = []\n",
        "cantidad = 50\n",
        "acumulado = 0\n",
        "apostado = 100\n",
        "\n",
        "for i in range(cantidad):\n",
        "    for j in range(iter):\n",
        "        token = random.randint(1, 100)\n",
        "        numero = random.randint(0, 1)\n",
        "        if(numero == 0):\n",
        "            if((token %2 == 0 or token == 11 and token != 10)):\n",
        "                acumulado += apostado\n",
        "            else:\n",
        "                acumulado -= apostado\n",
        "        if(numero == 1):\n",
        "            if((token %2 != 1 or token != 11 and token == 10)):\n",
        "                acumulado += apostado\n",
        "            else:\n",
        "                acumulado -= apostado\n",
        "    final.append(acumulado)\n",
        "\n",
        "# plt.plot(list(range(cantidad)) ,final)\n",
        "# plt.show()\n",
        "fig = px.line(x=list(range(cantidad)), y=final, title='EJERCICIO 3', labels={'x':'Cantidad', 'y':'Final'})\n",
        "fig.show()"
      ]
    },
    {
      "cell_type": "code",
      "execution_count": null,
      "metadata": {
        "colab": {
          "base_uri": "https://localhost:8080/",
          "height": 265
        },
        "id": "-8iWjCDXuYOV",
        "outputId": "3f472d4f-8a4c-4b7a-836f-6f847e9e2d51"
      },
      "outputs": [],
      "source": [
        "iter = 1000\n",
        "final = []\n",
        "cantidad = 50\n",
        "acumulado = 0\n",
        "apostado = 100\n",
        "\n",
        "for i in range(cantidad):\n",
        "    for j in range(iter):\n",
        "        token = random.randint(1, 100)\n",
        "        numero = random.randint(0, 1)\n",
        "        if(numero == 0):\n",
        "            if((token %2 == 0 or token == 11 and token != 10)):\n",
        "                acumulado += apostado\n",
        "            else:\n",
        "                acumulado -= apostado\n",
        "        elif(numero == 1):\n",
        "            if((token %2 != 1 or token != 11 and token == 10)):\n",
        "                acumulado += apostado\n",
        "            else:\n",
        "                acumulado -= apostado\n",
        "    final.append(acumulado)\n",
        "    \n",
        "plt.plot(list(range(cantidad)) ,final)\n",
        "plt.show()"
      ]
    },
    {
      "cell_type": "code",
      "execution_count": null,
      "metadata": {
        "colab": {
          "base_uri": "https://localhost:8080/",
          "height": 267
        },
        "id": "c9u7XMTtud80",
        "outputId": "bbdff3bb-38ef-4020-860b-2644f5b857e1"
      },
      "outputs": [],
      "source": [
        "iter = 10\n",
        "final = []\n",
        "cantidad = 10000\n",
        "acumulado = 0\n",
        "apostado = 100\n",
        "\n",
        "for i in range(cantidad):\n",
        "    for j in range(iter):\n",
        "        token = random.randint(1, 100)\n",
        "        numero = random.randint(0, 1)\n",
        "        if(numero == 0):\n",
        "            if((token %2 == 0 or token == 11 and token != 10)):\n",
        "                acumulado += apostado\n",
        "            else:\n",
        "                acumulado -= apostado\n",
        "        elif(numero == 1):\n",
        "            if((token %2 != 1 or token != 11 and token == 10)):\n",
        "                acumulado += apostado\n",
        "            else:\n",
        "                acumulado -= apostado\n",
        "    final.append(acumulado)\n",
        "    \n",
        "plt.plot(list(range(cantidad)) ,final)\n",
        "plt.show()"
      ]
    },
    {
      "cell_type": "markdown",
      "metadata": {
        "id": "uibtkR7ktvve"
      },
      "source": [
        "###Ejercicio 3"
      ]
    },
    {
      "cell_type": "code",
      "execution_count": null,
      "metadata": {},
      "outputs": [],
      "source": [
        "#grafo\n",
        "grafo = {'H1': [('H2',5), ('H4',6),('H6',4),('H8',7)],\n",
        "            'H2': [('H1',5), ('H3',2),('H4',4),('H5',3)],\n",
        "            'H3': [('H2',2),('H4',1)],\n",
        "            'H4': [('H1',6),('H2',2),('H3',1),('H5',7)],\n",
        "            'H5': [('H2',3),('H4',7),('H7',6),('H8',4)],\n",
        "            'H6': [('H1',4),('H7',3)],\n",
        "            'H7': [('H5',6),('H6',3),('H8',2)],\n",
        "            'H8': [('H1',7),('H5',4),('H7',2)],\n",
        "        }"
      ]
    },
    {
      "cell_type": "code",
      "execution_count": null,
      "metadata": {},
      "outputs": [],
      "source": [
        "def get_next_node(grafo,current_node):\n",
        "    weights = [edge[1] for edge in grafo[current_node]]\n",
        "\n",
        "    #total de los pesos\n",
        "    sum_w = sum(weights)\n",
        "\n",
        "    # probabilidad original de los pesos\n",
        "    weights = [((edge*100)/sum_w)/100 for edge in weights]\n",
        "\n",
        "    #invertir la probabilidad\n",
        "    new_weights = [1-edge for edge in weights]\n",
        "\n",
        "    #sumar los nuevos pesos\n",
        "    sum_w = sum(new_weights)\n",
        "    new_weights = [((edge*1)/sum_w) for edge in new_weights]\n",
        "\n",
        "    #print(new_peso)\n",
        "    return random.choices(population=grafo[current_node],weights=new_weights)[0]"
      ]
    },
    {
      "cell_type": "code",
      "execution_count": null,
      "metadata": {},
      "outputs": [],
      "source": [
        "def MCMC2(start,end,graph):\n",
        "    queue = [start]\n",
        "    new_path = [start]\n",
        "    total_weight = 0\n",
        "\n",
        "    while queue:\n",
        "        path = queue.pop(0)\n",
        "        node = path\n",
        "        #print('path ',path)\n",
        "        if node  in new_path:\n",
        "            #siguiente nodo\n",
        "            new_node,weight = get_next_node(graph,node)\n",
        "            #condiciones coinciden y encontraron un camino\n",
        "            if new_node == end and len(new_path) == len(graph):\n",
        "                total_weight+=weight\n",
        "                new_path.append(new_node)\n",
        "                return True,new_path,total_weight\n",
        "            #el nuevo nodo es igual al nodo final pero no hemos visitado todos los nodos\n",
        "            elif new_node == end and len(new_path) < len(graph):\n",
        "                #loop\n",
        "                queue.append(node)\n",
        "            #si el nuevo nodo está en la nueva ruta \n",
        "            elif new_node in new_path:\n",
        "                pass\n",
        "            else:\n",
        "                total_weight+=weight\n",
        "                new_path.append(new_node)\n",
        "                queue.append(new_node)\n",
        "    #print(\"No existe una ruta de conexión :(\")\n",
        "    return False,new_path,total_weight"
      ]
    },
    {
      "cell_type": "code",
      "execution_count": null,
      "metadata": {},
      "outputs": [],
      "source": [
        "def tsp_mcmc_simulation(start,end,graph,simulation_nums = 10000):\n",
        "    min_cost = 99999\n",
        "    min_path= []\n",
        "    for game in range(simulation_nums):\n",
        "        #costs,paths = [],[]\n",
        "        done,path,cost = MCMC2(start,end,graph)\n",
        "        if done is True:\n",
        "            if cost < min_cost:\n",
        "                min_cost,min_path = cost,path\n",
        "    print('The shortest path is: ',*min_path)\n",
        "    print('The min cost is: ',min_cost)"
      ]
    },
    {
      "cell_type": "code",
      "execution_count": null,
      "metadata": {},
      "outputs": [],
      "source": [
        "tsp_mcmc_simulation('H1','H1',grafo)"
      ]
    }
  ],
  "metadata": {
    "colab": {
      "provenance": []
    },
    "kernelspec": {
      "display_name": "Python 3.7.0 64-bit",
      "language": "python",
      "name": "python3"
    },
    "language_info": {
      "codemirror_mode": {
        "name": "ipython",
        "version": 3
      },
      "file_extension": ".py",
      "mimetype": "text/x-python",
      "name": "python",
      "nbconvert_exporter": "python",
      "pygments_lexer": "ipython3",
      "version": "3.7.0"
    },
    "orig_nbformat": 4,
    "vscode": {
      "interpreter": {
        "hash": "5109d816b82be14675a6b11f8e0f0d2e80f029176ed3710d54e125caa8520dfd"
      }
    }
  },
  "nbformat": 4,
  "nbformat_minor": 0
}
